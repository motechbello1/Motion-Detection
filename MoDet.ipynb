{
 "cells": [
  {
   "cell_type": "code",
   "execution_count": 2,
   "id": "c544c17e",
   "metadata": {},
   "outputs": [],
   "source": [
    "# import dependencies\n",
    "import cv2\n",
    "\n",
    "# Initializing video capture using OpenCV\n",
    "vcap = cv2.VideoCapture(0)\n",
    "\n",
    "# Checking if the camera is opened successfully\n",
    "if not vcap.isOpened():\n",
    "    print(\"Error: Could not open camera.\")\n",
    "    exit()\n",
    "\n",
    "# Utilizing OpenCV's createBackgroundSubtractorMOG2 for background subtraction\n",
    "background_subtractor = cv2.createBackgroundSubtractorMOG2()\n",
    "\n",
    "\n",
    "\n",
    "# Opening the default camera (the built-in webcam)\n",
    "while True:\n",
    "    # Capture frame-by-frame\n",
    "    ret, frame = vcap.read()\n",
    "    \n",
    "    if not ret:\n",
    "        break\n",
    "\n",
    "    # Apply background subtraction\n",
    "    fg_mask = background_subtractor.apply(frame)\n",
    "    \n",
    "    _, thresh = cv2.threshold(fg_mask, 25, 255, cv2.THRESH_BINARY)\n",
    "\n",
    "    # Countouring\n",
    "    contours, x = cv2.findContours(image=fg_mask, mode=cv2.RETR_TREE, method=cv2.CHAIN_APPROX_NONE)\n",
    "\n",
    "    # Decrease thresh_val for smaller movements (Also depends on light level)\n",
    "    thresh_val = 10000\n",
    "    \n",
    "    for c in contours:\n",
    "        if cv2.contourArea(c) < thresh_val:\n",
    "            continue\n",
    "            \n",
    "        #create box around contour area.\n",
    "        x, y, w, h = cv2.boundingRect(c)\n",
    "        cv2.rectangle(frame, (x, y), (x + w + 50, y + h + 50), (0, 255, 0), 2)\n",
    "\n",
    "\n",
    "    # Display the motion detection result\n",
    "    cv2.imshow('Motion Detection', frame)\n",
    "\n",
    "    # Break the loop if 'Esc' key is pressed\n",
    "    if cv2.waitKey(1) & 0xFF == 27:\n",
    "        break\n",
    "\n",
    "# Release the video capture object and close all open windows\n",
    "vcap.release()\n",
    "cv2.destroyAllWindows()\n"
   ]
  },
  {
   "cell_type": "code",
   "execution_count": null,
   "id": "fe33d811",
   "metadata": {},
   "outputs": [],
   "source": []
  },
  {
   "cell_type": "code",
   "execution_count": null,
   "id": "c96b5033",
   "metadata": {},
   "outputs": [],
   "source": []
  }
 ],
 "metadata": {
  "kernelspec": {
   "display_name": "Python 3 (ipykernel)",
   "language": "python",
   "name": "python3"
  },
  "language_info": {
   "codemirror_mode": {
    "name": "ipython",
    "version": 3
   },
   "file_extension": ".py",
   "mimetype": "text/x-python",
   "name": "python",
   "nbconvert_exporter": "python",
   "pygments_lexer": "ipython3",
   "version": "3.11.5"
  }
 },
 "nbformat": 4,
 "nbformat_minor": 5
}
